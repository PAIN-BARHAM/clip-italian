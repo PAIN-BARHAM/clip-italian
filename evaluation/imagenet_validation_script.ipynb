{
 "cells": [
  {
   "cell_type": "markdown",
   "metadata": {},
   "source": [
    "# Imagenet Evaluation Script\n",
    "modified from [the evluation script by OpenAI](https://colab.research.google.com/github/openai/clip/blob/master/notebooks/Prompt_Engineering_for_ImageNet.ipynb)."
   ]
  },
  {
   "cell_type": "code",
   "execution_count": 1,
   "metadata": {},
   "outputs": [],
   "source": [
    "import json\n",
    "import pandas as pd\n",
    "\n",
    "import jax\n",
    "from jax import numpy as jnp\n",
    "\n",
    "import os \n",
    "os.environ['TOKENIZERS_PARALLELISM'] = \"false\"\n",
    "\n",
    "import transformers\n",
    "from transformers import AutoTokenizer\n",
    "\n",
    "import numpy as np\n",
    "import torch\n",
    "import torchvision\n",
    "from torchvision import transforms\n",
    "from torchvision.transforms import CenterCrop, ConvertImageDtype, Normalize, Resize, ColorJitter, RandomHorizontalFlip, RandomRotation, ToTensor, Lambda\n",
    "from torchvision.transforms.functional import InterpolationMode\n",
    "from tqdm.notebook import tqdm\n",
    "\n",
    "!wget -q -N https://github.com/huggingface/transformers/raw/master/examples/research_projects/jax-projects/hybrid_clip/modeling_hybrid_clip.py\n",
    "!wget -q -N https://github.com/huggingface/transformers/raw/master/examples/research_projects/jax-projects/hybrid_clip/configuration_hybrid_clip.py\n",
    "\n",
    "import sys\n",
    "sys.path.append('/home/raphaelp/clip-italian/hybrid_clip/')\n",
    "\n",
    "from modeling_hybrid_clip import FlaxHybridCLIP\n",
    "# from configuration_hybrid_clip import HybridCLIPConfig"
   ]
  },
  {
   "cell_type": "code",
   "execution_count": 2,
   "metadata": {},
   "outputs": [
    {
     "name": "stderr",
     "output_type": "stream",
     "text": [
      "INFO:absl:Starting the local TPU driver.\n",
      "INFO:absl:Unable to initialize backend 'tpu_driver': Not found: Unable to find driver in registry given worker: local://\n",
      "INFO:absl:Unable to initialize backend 'gpu': Not found: Could not find registered platform with name: \"cuda\". Available platform names are: TPU Interpreter Host\n",
      "2021-07-16 07:37:13.427079: W tensorflow/stream_executor/platform/default/dso_loader.cc:64] Could not load dynamic library 'libcudart.so.11.0'; dlerror: libcudart.so.11.0: cannot open shared object file: No such file or directory\n",
      "Some weights of FlaxHybridCLIP were not initialized from the model checkpoint at clip-italian/clip-italian and are newly initialized: {('logit_scale',)}\n",
      "You should probably TRAIN this model on a down-stream task to be able to use it for predictions and inference.\n"
     ]
    }
   ],
   "source": [
    "# Global Variables\n",
    "\n",
    "LANGUAGE = 'it'\n",
    "IMAGENET_ROOT = \"/home/raphaelp/imagenet_root/\"\n",
    "\n",
    "\n",
    "if LANGUAGE == 'en':\n",
    "    TOKENIZER_NAME = \"roberta-base\" \n",
    "    CONFIG_FILE = '/home/raphaelp/clip-base/config.json'\n",
    "    MODEL_FILE = '/home/raphaelp/clip-base/checkpoint/flax_model.msgpack'\n",
    "    with open(CONFIG_FILE, 'r') as f:\n",
    "        config_dict = json.load(f)\n",
    "    config_dict['vision_config']['model_type'] = 'clip'\n",
    "    config = HybridCLIPConfig(text_config=config_dict['text_config'], vision_config=config_dict['vision_config'])\n",
    "    model = FlaxHybridCLIP.from_pretrained(MODEL_FILE, config=config)\n",
    "elif LANGUAGE == 'it':\n",
    "    TOKENIZER_NAME = \"dbmdz/bert-base-italian-xxl-uncased\"\n",
    "    model = model = FlaxHybridCLIP.from_pretrained(\"clip-italian/clip-italian\")\n",
    "    \n",
    "    \n",
    "config = model.config"
   ]
  },
  {
   "cell_type": "markdown",
   "metadata": {
    "id": "eFxgLV5HAEEw"
   },
   "source": [
    "# Loading the model"
   ]
  },
  {
   "cell_type": "code",
   "execution_count": 3,
   "metadata": {},
   "outputs": [],
   "source": [
    "tokenizer = AutoTokenizer.from_pretrained(\n",
    "    TOKENIZER_NAME, cache_dir=None, use_fast=True\n",
    ")"
   ]
  },
  {
   "cell_type": "code",
   "execution_count": 4,
   "metadata": {
    "tags": []
   },
   "outputs": [],
   "source": [
    "# with open(CONFIG_FILE, 'r') as f:\n",
    "#     config_dict = json.load(f)\n",
    "# config_dict['vision_config']['model_type'] = 'clip'\n",
    "# config = HybridCLIPConfig(text_config_dict=config_dict['text_config'], vision_config_dict=config_dict['vision_config'])\n",
    "# model = FlaxHybridCLIP.from_pretrained(MODEL_FILE, config=config)"
   ]
  },
  {
   "cell_type": "code",
   "execution_count": 5,
   "metadata": {
    "colab": {
     "base_uri": "https://localhost:8080/"
    },
    "id": "IBRVTY9lbGm8",
    "outputId": "58641dc2-919d-40ae-b71a-7b7b47830f77"
   },
   "outputs": [
    {
     "name": "stdout",
     "output_type": "stream",
     "text": [
      "Input resolution: 224\n",
      "Context length: 20\n",
      "Vocab size: 32102\n"
     ]
    }
   ],
   "source": [
    "print(\"Input resolution:\", config.vision_config.image_size)\n",
    "print(\"Context length:\", config.text_config.max_length)\n",
    "print(\"Vocab size:\", config.text_config.vocab_size)"
   ]
  },
  {
   "cell_type": "markdown",
   "metadata": {
    "id": "LhO3OtOmF8M4"
   },
   "source": [
    "# Preparing ImageNet labels and prompts\n",
    "\n",
    "The following cell contains the 1,000 labels for the ImageNet dataset, followed by the text templates we'll use as \"prompt engineering\"."
   ]
  },
  {
   "cell_type": "code",
   "execution_count": 6,
   "metadata": {
    "id": "R2HbOZrqa0jF"
   },
   "outputs": [
    {
     "name": "stdout",
     "output_type": "stream",
     "text": [
      "<bound method NDFrame.head of         set_id                                            syn_set  \\\n",
      "0    n01440764                                 tench, Tinca tinca   \n",
      "1    n01443537                        goldfish, Carassius auratus   \n",
      "2    n01484850  great white shark, white shark, man-eater, man...   \n",
      "3    n01491361                    tiger shark, Galeocerdo cuvieri   \n",
      "4    n01494475                       hammerhead, hammerhead shark   \n",
      "..         ...                                                ...   \n",
      "995  n13044778                                          earthstar   \n",
      "996  n13052670  hen-of-the-woods, hen of the woods, Polyporus ...   \n",
      "997  n13054560                                             bolete   \n",
      "998  n13133613                              ear, spike, capitulum   \n",
      "999  n15075141       toilet tissue, toilet paper, bathroom tissue   \n",
      "\n",
      "             first_syn                      query_long          query_short  \\\n",
      "0                tench              a photo of a tench              a tench   \n",
      "1             goldfish           a photo of a goldfish           a goldfish   \n",
      "2    great white shark  a photo of a great white shark  a great white shark   \n",
      "3          tiger shark        a photo of a tiger shark        a tiger shark   \n",
      "4           hammerhead         a photo of a hammerhead         a hammerhead   \n",
      "..                 ...                             ...                  ...   \n",
      "995          earthstar          a photo of a earthstar          a earthstar   \n",
      "996   hen-of-the-woods   a photo of a hen-of-the-woods   a hen-of-the-woods   \n",
      "997             bolete             a photo of a bolete             a bolete   \n",
      "998                ear                a photo of a ear                a ear   \n",
      "999      toilet tissue      a photo of a toilet tissue      a toilet tissue   \n",
      "\n",
      "      query_short_translated                query_long_translated  class_id  \n",
      "0                  una tinca                una foto di una tinca         1  \n",
      "1             un pesce rosso           una foto di un pesce rosso         2  \n",
      "2    un grande squalo bianco  una foto di un grande squalo bianco         3  \n",
      "3           uno squalo tigre         una foto di uno squalo tigre         4  \n",
      "4          un pesce martello        una foto di un pesce martello         5  \n",
      "..                       ...                                  ...       ...  \n",
      "995      una stella di terra      una foto di una stella di terra       996  \n",
      "996   una gallina dei boschi   una foto di una gallina dei boschi       997  \n",
      "997                un boleto                una foto di un boleto       998  \n",
      "998              un orecchio              una foto di un orecchio       999  \n",
      "999       una carta igienica       una foto di una carta igienica      1000  \n",
      "\n",
      "[1000 rows x 8 columns]>\n"
     ]
    }
   ],
   "source": [
    "if LANGUAGE == 'en':\n",
    "    imagenet_classes = [\"tench\", \"goldfish\", \"great white shark\", \"tiger shark\", \"hammerhead shark\", \"electric ray\", \"stingray\", \"rooster\", \"hen\", \"ostrich\", \"brambling\", \"goldfinch\", \"house finch\", \"junco\", \"indigo bunting\", \"American robin\", \"bulbul\", \"jay\", \"magpie\", \"chickadee\", \"American dipper\", \"kite (bird of prey)\", \"bald eagle\", \"vulture\", \"great grey owl\", \"fire salamander\", \"smooth newt\", \"newt\", \"spotted salamander\", \"axolotl\", \"American bullfrog\", \"tree frog\", \"tailed frog\", \"loggerhead sea turtle\", \"leatherback sea turtle\", \"mud turtle\", \"terrapin\", \"box turtle\", \"banded gecko\", \"green iguana\", \"Carolina anole\", \"desert grassland whiptail lizard\", \"agama\", \"frilled-necked lizard\", \"alligator lizard\", \"Gila monster\", \"European green lizard\", \"chameleon\", \"Komodo dragon\", \"Nile crocodile\", \"American alligator\", \"triceratops\", \"worm snake\", \"ring-necked snake\", \"eastern hog-nosed snake\", \"smooth green snake\", \"kingsnake\", \"garter snake\", \"water snake\", \"vine snake\", \"night snake\", \"boa constrictor\", \"African rock python\", \"Indian cobra\", \"green mamba\", \"sea snake\", \"Saharan horned viper\", \"eastern diamondback rattlesnake\", \"sidewinder rattlesnake\", \"trilobite\", \"harvestman\", \"scorpion\", \"yellow garden spider\", \"barn spider\", \"European garden spider\", \"southern black widow\", \"tarantula\", \"wolf spider\", \"tick\", \"centipede\", \"black grouse\", \"ptarmigan\", \"ruffed grouse\", \"prairie grouse\", \"peafowl\", \"quail\", \"partridge\", \"african grey parrot\", \"macaw\", \"sulphur-crested cockatoo\", \"lorikeet\", \"coucal\", \"bee eater\", \"hornbill\", \"hummingbird\", \"jacamar\", \"toucan\", \"duck\", \"red-breasted merganser\", \"goose\", \"black swan\", \"tusker\", \"echidna\", \"platypus\", \"wallaby\", \"koala\", \"wombat\", \"jellyfish\", \"sea anemone\", \"brain coral\", \"flatworm\", \"nematode\", \"conch\", \"snail\", \"slug\", \"sea slug\", \"chiton\", \"chambered nautilus\", \"Dungeness crab\", \"rock crab\", \"fiddler crab\", \"red king crab\", \"American lobster\", \"spiny lobster\", \"crayfish\", \"hermit crab\", \"isopod\", \"white stork\", \"black stork\", \"spoonbill\", \"flamingo\", \"little blue heron\", \"great egret\", \"bittern bird\", \"crane bird\", \"limpkin\", \"common gallinule\", \"American coot\", \"bustard\", \"ruddy turnstone\", \"dunlin\", \"common redshank\", \"dowitcher\", \"oystercatcher\", \"pelican\", \"king penguin\", \"albatross\", \"grey whale\", \"killer whale\", \"dugong\", \"sea lion\", \"Chihuahua\", \"Japanese Chin\", \"Maltese\", \"Pekingese\", \"Shih Tzu\", \"King Charles Spaniel\", \"Papillon\", \"toy terrier\", \"Rhodesian Ridgeback\", \"Afghan Hound\", \"Basset Hound\", \"Beagle\", \"Bloodhound\", \"Bluetick Coonhound\", \"Black and Tan Coonhound\", \"Treeing Walker Coonhound\", \"English foxhound\", \"Redbone Coonhound\", \"borzoi\", \"Irish Wolfhound\", \"Italian Greyhound\", \"Whippet\", \"Ibizan Hound\", \"Norwegian Elkhound\", \"Otterhound\", \"Saluki\", \"Scottish Deerhound\", \"Weimaraner\", \"Staffordshire Bull Terrier\", \"American Staffordshire Terrier\", \"Bedlington Terrier\", \"Border Terrier\", \"Kerry Blue Terrier\", \"Irish Terrier\", \"Norfolk Terrier\", \"Norwich Terrier\", \"Yorkshire Terrier\", \"Wire Fox Terrier\", \"Lakeland Terrier\", \"Sealyham Terrier\", \"Airedale Terrier\", \"Cairn Terrier\", \"Australian Terrier\", \"Dandie Dinmont Terrier\", \"Boston Terrier\", \"Miniature Schnauzer\", \"Giant Schnauzer\", \"Standard Schnauzer\", \"Scottish Terrier\", \"Tibetan Terrier\", \"Australian Silky Terrier\", \"Soft-coated Wheaten Terrier\", \"West Highland White Terrier\", \"Lhasa Apso\", \"Flat-Coated Retriever\", \"Curly-coated Retriever\", \"Golden Retriever\", \"Labrador Retriever\", \"Chesapeake Bay Retriever\", \"German Shorthaired Pointer\", \"Vizsla\", \"English Setter\", \"Irish Setter\", \"Gordon Setter\", \"Brittany dog\", \"Clumber Spaniel\", \"English Springer Spaniel\", \"Welsh Springer Spaniel\", \"Cocker Spaniel\", \"Sussex Spaniel\", \"Irish Water Spaniel\", \"Kuvasz\", \"Schipperke\", \"Groenendael dog\", \"Malinois\", \"Briard\", \"Australian Kelpie\", \"Komondor\", \"Old English Sheepdog\", \"Shetland Sheepdog\", \"collie\", \"Border Collie\", \"Bouvier des Flandres dog\", \"Rottweiler\", \"German Shepherd Dog\", \"Dobermann\", \"Miniature Pinscher\", \"Greater Swiss Mountain Dog\", \"Bernese Mountain Dog\", \"Appenzeller Sennenhund\", \"Entlebucher Sennenhund\", \"Boxer\", \"Bullmastiff\", \"Tibetan Mastiff\", \"French Bulldog\", \"Great Dane\", \"St. Bernard\", \"husky\", \"Alaskan Malamute\", \"Siberian Husky\", \"Dalmatian\", \"Affenpinscher\", \"Basenji\", \"pug\", \"Leonberger\", \"Newfoundland dog\", \"Great Pyrenees dog\", \"Samoyed\", \"Pomeranian\", \"Chow Chow\", \"Keeshond\", \"brussels griffon\", \"Pembroke Welsh Corgi\", \"Cardigan Welsh Corgi\", \"Toy Poodle\", \"Miniature Poodle\", \"Standard Poodle\", \"Mexican hairless dog (xoloitzcuintli)\", \"grey wolf\", \"Alaskan tundra wolf\", \"red wolf or maned wolf\", \"coyote\", \"dingo\", \"dhole\", \"African wild dog\", \"hyena\", \"red fox\", \"kit fox\", \"Arctic fox\", \"grey fox\", \"tabby cat\", \"tiger cat\", \"Persian cat\", \"Siamese cat\", \"Egyptian Mau\", \"cougar\", \"lynx\", \"leopard\", \"snow leopard\", \"jaguar\", \"lion\", \"tiger\", \"cheetah\", \"brown bear\", \"American black bear\", \"polar bear\", \"sloth bear\", \"mongoose\", \"meerkat\", \"tiger beetle\", \"ladybug\", \"ground beetle\", \"longhorn beetle\", \"leaf beetle\", \"dung beetle\", \"rhinoceros beetle\", \"weevil\", \"fly\", \"bee\", \"ant\", \"grasshopper\", \"cricket insect\", \"stick insect\", \"cockroach\", \"praying mantis\", \"cicada\", \"leafhopper\", \"lacewing\", \"dragonfly\", \"damselfly\", \"red admiral butterfly\", \"ringlet butterfly\", \"monarch butterfly\", \"small white butterfly\", \"sulphur butterfly\", \"gossamer-winged butterfly\", \"starfish\", \"sea urchin\", \"sea cucumber\", \"cottontail rabbit\", \"hare\", \"Angora rabbit\", \"hamster\", \"porcupine\", \"fox squirrel\", \"marmot\", \"beaver\", \"guinea pig\", \"common sorrel horse\", \"zebra\", \"pig\", \"wild boar\", \"warthog\", \"hippopotamus\", \"ox\", \"water buffalo\", \"bison\", \"ram (adult male sheep)\", \"bighorn sheep\", \"Alpine ibex\", \"hartebeest\", \"impala (antelope)\", \"gazelle\", \"arabian camel\", \"llama\", \"weasel\", \"mink\", \"European polecat\", \"black-footed ferret\", \"otter\", \"skunk\", \"badger\", \"armadillo\", \"three-toed sloth\", \"orangutan\", \"gorilla\", \"chimpanzee\", \"gibbon\", \"siamang\", \"guenon\", \"patas monkey\", \"baboon\", \"macaque\", \"langur\", \"black-and-white colobus\", \"proboscis monkey\", \"marmoset\", \"white-headed capuchin\", \"howler monkey\", \"titi monkey\", \"Geoffroy's spider monkey\", \"common squirrel monkey\", \"ring-tailed lemur\", \"indri\", \"Asian elephant\", \"African bush elephant\", \"red panda\", \"giant panda\", \"snoek fish\", \"eel\", \"silver salmon\", \"rock beauty fish\", \"clownfish\", \"sturgeon\", \"gar fish\", \"lionfish\", \"pufferfish\", \"abacus\", \"abaya\", \"academic gown\", \"accordion\", \"acoustic guitar\", \"aircraft carrier\", \"airliner\", \"airship\", \"altar\", \"ambulance\", \"amphibious vehicle\", \"analog clock\", \"apiary\", \"apron\", \"trash can\", \"assault rifle\", \"backpack\", \"bakery\", \"balance beam\", \"balloon\", \"ballpoint pen\", \"Band-Aid\", \"banjo\", \"baluster / handrail\", \"barbell\", \"barber chair\", \"barbershop\", \"barn\", \"barometer\", \"barrel\", \"wheelbarrow\", \"baseball\", \"basketball\", \"bassinet\", \"bassoon\", \"swimming cap\", \"bath towel\", \"bathtub\", \"station wagon\", \"lighthouse\", \"beaker\", \"military hat (bearskin or shako)\", \"beer bottle\", \"beer glass\", \"bell tower\", \"baby bib\", \"tandem bicycle\", \"bikini\", \"ring binder\", \"binoculars\", \"birdhouse\", \"boathouse\", \"bobsleigh\", \"bolo tie\", \"poke bonnet\", \"bookcase\", \"bookstore\", \"bottle cap\", \"hunting bow\", \"bow tie\", \"brass memorial plaque\", \"bra\", \"breakwater\", \"breastplate\", \"broom\", \"bucket\", \"buckle\", \"bulletproof vest\", \"high-speed train\", \"butcher shop\", \"taxicab\", \"cauldron\", \"candle\", \"cannon\", \"canoe\", \"can opener\", \"cardigan\", \"car mirror\", \"carousel\", \"tool kit\", \"cardboard box / carton\", \"car wheel\", \"automated teller machine\", \"cassette\", \"cassette player\", \"castle\", \"catamaran\", \"CD player\", \"cello\", \"mobile phone\", \"chain\", \"chain-link fence\", \"chain mail\", \"chainsaw\", \"storage chest\", \"chiffonier\", \"bell or wind chime\", \"china cabinet\", \"Christmas stocking\", \"church\", \"movie theater\", \"cleaver\", \"cliff dwelling\", \"cloak\", \"clogs\", \"cocktail shaker\", \"coffee mug\", \"coffeemaker\", \"spiral or coil\", \"combination lock\", \"computer keyboard\", \"candy store\", \"container ship\", \"convertible\", \"corkscrew\", \"cornet\", \"cowboy boot\", \"cowboy hat\", \"cradle\", \"construction crane\", \"crash helmet\", \"crate\", \"infant bed\", \"Crock Pot\", \"croquet ball\", \"crutch\", \"cuirass\", \"dam\", \"desk\", \"desktop computer\", \"rotary dial telephone\", \"diaper\", \"digital clock\", \"digital watch\", \"dining table\", \"dishcloth\", \"dishwasher\", \"disc brake\", \"dock\", \"dog sled\", \"dome\", \"doormat\", \"drilling rig\", \"drum\", \"drumstick\", \"dumbbell\", \"Dutch oven\", \"electric fan\", \"electric guitar\", \"electric locomotive\", \"entertainment center\", \"envelope\", \"espresso machine\", \"face powder\", \"feather boa\", \"filing cabinet\", \"fireboat\", \"fire truck\", \"fire screen\", \"flagpole\", \"flute\", \"folding chair\", \"football helmet\", \"forklift\", \"fountain\", \"fountain pen\", \"four-poster bed\", \"freight car\", \"French horn\", \"frying pan\", \"fur coat\", \"garbage truck\", \"gas mask or respirator\", \"gas pump\", \"goblet\", \"go-kart\", \"golf ball\", \"golf cart\", \"gondola\", \"gong\", \"gown\", \"grand piano\", \"greenhouse\", \"radiator grille\", \"grocery store\", \"guillotine\", \"hair clip\", \"hair spray\", \"half-track\", \"hammer\", \"hamper\", \"hair dryer\", \"hand-held computer\", \"handkerchief\", \"hard disk drive\", \"harmonica\", \"harp\", \"combine harvester\", \"hatchet\", \"holster\", \"home theater\", \"honeycomb\", \"hook\", \"hoop skirt\", \"gymnastic horizontal bar\", \"horse-drawn vehicle\", \"hourglass\", \"iPod\", \"clothes iron\", \"carved pumpkin\", \"jeans\", \"jeep\", \"T-shirt\", \"jigsaw puzzle\", \"rickshaw\", \"joystick\", \"kimono\", \"knee pad\", \"knot\", \"lab coat\", \"ladle\", \"lampshade\", \"laptop computer\", \"lawn mower\", \"lens cap\", \"letter opener\", \"library\", \"lifeboat\", \"lighter\", \"limousine\", \"ocean liner\", \"lipstick\", \"slip-on shoe\", \"lotion\", \"music speaker\", \"loupe magnifying glass\", \"sawmill\", \"magnetic compass\", \"messenger bag\", \"mailbox\", \"tights\", \"one-piece bathing suit\", \"manhole cover\", \"maraca\", \"marimba\", \"mask\", \"matchstick\", \"maypole\", \"maze\", \"measuring cup\", \"medicine cabinet\", \"megalith\", \"microphone\", \"microwave oven\", \"military uniform\", \"milk can\", \"minibus\", \"miniskirt\", \"minivan\", \"missile\", \"mitten\", \"mixing bowl\", \"mobile home\", \"ford model t\", \"modem\", \"monastery\", \"monitor\", \"moped\", \"mortar and pestle\", \"graduation cap\", \"mosque\", \"mosquito net\", \"vespa\", \"mountain bike\", \"tent\", \"computer mouse\", \"mousetrap\", \"moving van\", \"muzzle\", \"metal nail\", \"neck brace\", \"necklace\", \"baby pacifier\", \"notebook computer\", \"obelisk\", \"oboe\", \"ocarina\", \"odometer\", \"oil filter\", \"pipe organ\", \"oscilloscope\", \"overskirt\", \"bullock cart\", \"oxygen mask\", \"product packet / packaging\", \"paddle\", \"paddle wheel\", \"padlock\", \"paintbrush\", \"pajamas\", \"palace\", \"pan flute\", \"paper towel\", \"parachute\", \"parallel bars\", \"park bench\", \"parking meter\", \"railroad car\", \"patio\", \"payphone\", \"pedestal\", \"pencil case\", \"pencil sharpener\", \"perfume\", \"Petri dish\", \"photocopier\", \"plectrum\", \"Pickelhaube\", \"picket fence\", \"pickup truck\", \"pier\", \"piggy bank\", \"pill bottle\", \"pillow\", \"ping-pong ball\", \"pinwheel\", \"pirate ship\", \"drink pitcher\", \"block plane\", \"planetarium\", \"plastic bag\", \"plate rack\", \"farm plow\", \"plunger\", \"Polaroid camera\", \"pole\", \"police van\", \"poncho\", \"pool table\", \"soda bottle\", \"plant pot\", \"potter's wheel\", \"power drill\", \"prayer rug\", \"printer\", \"prison\", \"missile\", \"projector\", \"hockey puck\", \"punching bag\", \"purse\", \"quill\", \"quilt\", \"race car\", \"racket\", \"radiator\", \"radio\", \"radio telescope\", \"rain barrel\", \"recreational vehicle\", \"fishing casting reel\", \"reflex camera\", \"refrigerator\", \"remote control\", \"restaurant\", \"revolver\", \"rifle\", \"rocking chair\", \"rotisserie\", \"eraser\", \"rugby ball\", \"ruler measuring stick\", \"sneaker\", \"safe\", \"safety pin\", \"salt shaker\", \"sandal\", \"sarong\", \"saxophone\", \"scabbard\", \"weighing scale\", \"school bus\", \"schooner\", \"scoreboard\", \"CRT monitor\", \"screw\", \"screwdriver\", \"seat belt\", \"sewing machine\", \"shield\", \"shoe store\", \"shoji screen / room divider\", \"shopping basket\", \"shopping cart\", \"shovel\", \"shower cap\", \"shower curtain\", \"ski\", \"balaclava ski mask\", \"sleeping bag\", \"slide rule\", \"sliding door\", \"slot machine\", \"snorkel\", \"snowmobile\", \"snowplow\", \"soap dispenser\", \"soccer ball\", \"sock\", \"solar thermal collector\", \"sombrero\", \"soup bowl\", \"keyboard space bar\", \"space heater\", \"space shuttle\", \"spatula\", \"motorboat\", \"spider web\", \"spindle\", \"sports car\", \"spotlight\", \"stage\", \"steam locomotive\", \"through arch bridge\", \"steel drum\", \"stethoscope\", \"scarf\", \"stone wall\", \"stopwatch\", \"stove\", \"strainer\", \"tram\", \"stretcher\", \"couch\", \"stupa\", \"submarine\", \"suit\", \"sundial\", \"sunglasses\", \"sunglasses\", \"sunscreen\", \"suspension bridge\", \"mop\", \"sweatshirt\", \"swim trunks / shorts\", \"swing\", \"electrical switch\", \"syringe\", \"table lamp\", \"tank\", \"tape player\", \"teapot\", \"teddy bear\", \"television\", \"tennis ball\", \"thatched roof\", \"front curtain\", \"thimble\", \"threshing machine\", \"throne\", \"tile roof\", \"toaster\", \"tobacco shop\", \"toilet seat\", \"torch\", \"totem pole\", \"tow truck\", \"toy store\", \"tractor\", \"semi-trailer truck\", \"tray\", \"trench coat\", \"tricycle\", \"trimaran\", \"tripod\", \"triumphal arch\", \"trolleybus\", \"trombone\", \"hot tub\", \"turnstile\", \"typewriter keyboard\", \"umbrella\", \"unicycle\", \"upright piano\", \"vacuum cleaner\", \"vase\", \"vaulted or arched ceiling\", \"velvet fabric\", \"vending machine\", \"vestment\", \"viaduct\", \"violin\", \"volleyball\", \"waffle iron\", \"wall clock\", \"wallet\", \"wardrobe\", \"military aircraft\", \"sink\", \"washing machine\", \"water bottle\", \"water jug\", \"water tower\", \"whiskey jug\", \"whistle\", \"hair wig\", \"window screen\", \"window shade\", \"Windsor tie\", \"wine bottle\", \"airplane wing\", \"wok\", \"wooden spoon\", \"wool\", \"split-rail fence\", \"shipwreck\", \"sailboat\", \"yurt\", \"website\", \"comic book\", \"crossword\", \"traffic or street sign\", \"traffic light\", \"dust jacket\", \"menu\", \"plate\", \"guacamole\", \"consomme\", \"hot pot\", \"trifle\", \"ice cream\", \"popsicle\", \"baguette\", \"bagel\", \"pretzel\", \"cheeseburger\", \"hot dog\", \"mashed potatoes\", \"cabbage\", \"broccoli\", \"cauliflower\", \"zucchini\", \"spaghetti squash\", \"acorn squash\", \"butternut squash\", \"cucumber\", \"artichoke\", \"bell pepper\", \"cardoon\", \"mushroom\", \"Granny Smith apple\", \"strawberry\", \"orange\", \"lemon\", \"fig\", \"pineapple\", \"banana\", \"jackfruit\", \"cherimoya (custard apple)\", \"pomegranate\", \"hay\", \"carbonara\", \"chocolate syrup\", \"dough\", \"meatloaf\", \"pizza\", \"pot pie\", \"burrito\", \"red wine\", \"espresso\", \"tea cup\", \"eggnog\", \"mountain\", \"bubble\", \"cliff\", \"coral reef\", \"geyser\", \"lakeshore\", \"promontory\", \"sandbar\", \"beach\", \"valley\", \"volcano\", \"baseball player\", \"bridegroom\", \"scuba diver\", \"rapeseed\", \"daisy\", \"yellow lady's slipper\", \"corn\", \"acorn\", \"rose hip\", \"horse chestnut seed\", \"coral fungus\", \"agaric\", \"gyromitra\", \"stinkhorn mushroom\", \"earth star fungus\", \"hen of the woods mushroom\", \"bolete\", \"corn cob\", \"toilet paper\"]\n",
    "elif LANGUAGE == 'it':\n",
    "    # imagenet_classes = [\"tinca\", \"pesce rosso\", \"grande squalo bianco\", \"Squalo tigre\", \"Squalo martello\", \"raggio elettrico\", \"pastinaca\", \"gallo\", \"gallina\", \"struzzo\", \"rovo\", \"cardellino\", \"fringuello di casa\", \"giunco\", \"Zigolo indaco\", \"pettirosso americano\", \"bulbul\", \"ghiandaia\", \"gazza\", \"cincillà\", \"merlo acquaiolo americano\", \"Nibbio (uccello rapace)\", \"aquila calva\", \"avvoltoio\", \"Gufo grigio maggiore\", \"Salamandra pezzata\", \"tritone liscio\", \"tritone\", \"salamandra pezzata\", \"axolotl\", \"rana toro americana\", \"raganella\", \"Rana codina\", \"Tartaruga di mare loggerhead\", \"tartaruga di cuoio\", \"tartaruga fangosa\", \"tartaruga\", \"tartaruga scatola\", \"geco fasciato\", \"iguana verde\", \"Anolo della Carolina\", \"lucertola a coda di rondine del deserto\", \"agama\", \"lucertola dal collo a frange\", \"lucertola alligatore\", \"Mostro di Gila\", \"lucertola verde europea\", \"camaleonte\", \"Drago di Komodo\", \"coccodrillo del Nilo\", \"Alligatore americano\", \"triceratopo\", \"serpente verme\", \"serpente dal collo ad anelli\", \"serpente dal naso di maiale orientale\", \"serpente verde liscio\", \"serpente reale\", \"serpente giarrettiera\", \"serpente d\\'acqua\", \"serpente delle vigne\", \"serpente notturno\", \"boa constrictor\", \"Pitone africano delle rocce\", \"cobra indiano\", \"mamba verde\", \"serpente di mare\", \"vipera cornuta del Sahara\", \"serpente a sonagli orientale\", \"serpente a sonagli laterale\", \"trilobite\", \"Uomo del raccolto\", \"scorpione\", \"ragno giallo del giardino\", \"ragno del granaio\", \"Ragno europeo del giardino\", \"vedova nera del sud\", \"tarantola\", \"ragno lupo\", \"zecca\", \"millepiedi\", \"fagiano di monte\", \"pernice bianca\", \"gallo cedrone\", \"fagiano di monte\", \"pavone\", \"quaglia\", \"pernice\", \"pappagallo grigio africano\", \"ara\", \"cacatua dalla cresta sulfurea\", \"lorichetto\", \"coucal\", \"mangiatore di api\", \"bucerotide\", \"colibrì\", \"jacamar\", \"tucano\", \"anatra\", \"merganser dal petto rosso\", \"oca\", \"cigno nero\", \"tusker\", \"echidna\", \"ornitorinco\", \"wallaby\", \"koala\", \"vombato\", \"medusa\", \"anemone di mare\", \"cervello di corallo\", \"verme piatto\", \"nematode\", \"conchiglia\", \"lumaca\", \"lumaca\", \"lumaca di mare\", \"chitone\", \"Nautilus a camera\", \"Granchio di Dungeness\", \"granchio di roccia\", \"granchio violinista\", \"granchio reale rosso\", \"aragosta americana\", \"aragosta spinosa\", \"gambero di fiume\", \"granchio eremita\", \"isopode\", \"cicogna bianca\", \"cicogna nera\", \"spatola\", \"fenicottero\", \"airone blu piccolo\", \"airone bianco\", \"Tarabuso\", \"uccello gru\", \"mignatta\", \"Gallinelle comuni\", \"Folaga americana\", \"otarda\", \"voltafaccia rubicondo\", \"dunlin\", \"pettegola comune\", \"fraticello\", \"beccaccia di mare\", \"Pellicano\", \"Pinguino reale\", \"albatros\", \"balena grigia\", \"balena assassina\", \"dugongo\", \"leone marino\", \"Chihuahua\", \"Mento giapponese\", \"Maltese\", \"Pechinese\", \"Shih Tzu\", \"King Charles Spaniel\", \"Papillon\", \"Terrier giocattolo\", \"Rhodesian Ridgeback\", \"Levriero afgano\", \"Basset Hound\", \"Beagle\", \"Bloodhound\", \"Bluetick Coonhound\", \"Black and Tan Coonhound\", \"Treeing Walker Coonhound\", \"Foxhound inglese\", \"Redbone Coonhound\", \"borzoi\", \"Irish Wolfhound\", \"Levriero italiano\", \"Whippet\", \"Segugio Ibiziano\", \"Levriero norvegese\", \"Otterhound\", \"Saluki\", \"Deerhound scozzese\", \"Weimaraner\", \"Staffordshire Bull Terrier\", \"American Staffordshire Terrier\", \"Bedlington Terrier\", \"Border Terrier\", \"Kerry Blue Terrier\", \"Terrier Irlandese\", \"Norfolk Terrier\", \"Norwich Terrier\", \"Yorkshire Terrier\", \"Wire Fox Terrier\", \"Lakeland Terrier\", \"Sealyham Terrier\", \"Airedale Terrier\", \"Cairn Terrier\", \"Terrier Australiano\", \"Dandie Dinmont Terrier\", \"Boston Terrier\", \"Schnauzer in miniatura\", \"Schnauzer Gigante\", \"Schnauzer Standard\", \"Terrier Scozzese\", \"Tibetan Terrier\", \"Australian Silky Terrier\", \"Terrier Wheaten a pelo morbido\", \"West Highland White Terrier\", \"Lhasa Apso\", \"Flat-Coated Retriever\", \"Curly-coated Retriever\", \"Golden Retriever\", \"Labrador Retriever\", \"Chesapeake Bay Retriever\", \"Pointer tedesco a pelo corto\", \"Vizsla\", \"Setter inglese\", \"Setter irlandese\", \"Gordon Setter\", \"Cane della Bretagna\", \"Clumber Spaniel\", \"Springer Spaniel inglese\", \"Springer Spaniel gallese\", \"Cocker Spaniel\", \"Sussex Spaniel\", \"Irish Water Spaniel\", \"Kuvasz\", \"Schipperke\", \"Cane di Groenendael\", \"Malinois\", \"Briard\", \"Kelpie australiano\", \"Komondor\", \"Vecchio cane da pastore inglese\", \"Cane da pastore delle Shetland\", \"Collie\", \"Border Collie\", \"Cane Bouvier des Flandres\", \"Rottweiler\", \"Cane da pastore tedesco\", \"Dobermann\", \"Pinscher in miniatura\", \"Cane da montagna svizzero maggiore\", \"Cane da montagna bernese\", \"Appenzeller Sennenhund\", \"Entlebucher Sennenhund\", \"Boxer\", \"Bullmastiff\", \"Mastino tibetano\", \"Bulldog francese\", \"Alano\", \"San Bernardo\", \"husky\", \"Alaskan Malamute\", \"Husky siberiano\", \"Dalmata\", \"Affenpinscher\", \"Basenji\", \"Carlino\", \"Leonberger\", \"Cane di Terranova\", \"Cane dei Grandi Pirenei\", \"Samoiedo\", \"Pomerania\", \"Chow Chow\", \"Keeshond\", \"Griffone di Bruxelles\", \"Pembroke Welsh Corgi\", \"Cardigan Welsh Corgi\", \"Barboncino giocattolo\", \"Barboncino in miniatura\", \"Barboncino standard\", \"Cane messicano senza pelo (xoloitzcuintli)\", \"lupo grigio\", \"Lupo della tundra dell\\'Alaska\", \"lupo rosso o lupo dalla criniera\", \"coyote\", \"dingo\", \"dhole\", \"Cane selvatico africano\", \"iena\", \"volpe rossa\", \"volpe rossa\", \"Volpe artica\", \"volpe grigia\", \"gatto soriano\", \"gatto tigrato\", \"Gatto persiano\", \"Gatto siamese\", \"Mau egiziano\", \"coguaro\", \"lince\", \"leopardo\", \"leopardo delle nevi\", \"giaguaro\", \"leone\", \"tigre\", \"ghepardo\", \"orso bruno\", \"Orso nero americano\", \"orso polare\", \"orso bradipo\", \"mangusta\", \"suricato\", \"scarabeo tigre\", \"coccinella\", \"scarabeo di terra\", \"coleottero delle corna\", \"scarabeo delle foglie\", \"scarabeo stercorario\", \"scarabeo rinoceronte\", \"tonchio\", \"mosca\", \"ape\", \"formica\", \"cavalletta\", \"insetto grillo\", \"insetto stecco\", \"scarafaggio\", \"mantide religiosa\", \"cicala\", \"cicala di mare\", \"pizzo\", \"libellula\", \"damigella d\\'acqua\", \"farfalla ammiraglio rosso\", \"Farfalla ad anelli\", \"farfalla monarca\", \"piccola farfalla bianca\", \"farfalla zolfo\", \"farfalla dalle ali di gossamer\", \"stella marina\", \"riccio di mare\", \"Cetriolo di mare\", \"Coniglio dalla coda di cotone\", \"lepre\", \"Coniglio d\\'angora\", \"criceto\", \"Istrice\", \"Scoiattolo volpe\", \"marmotta\", \"castoro\", \"Porcellino d\\'India\", \"cavallo sauro comune\", \"zebra\", \"Maiale\", \"Cinghiale\", \"facocero\", \"ippopotamo\", \"bue\", \"bufalo d\\'acqua\", \"bisonte\", \"ariete (pecora maschio adulto)\", \"pecora bighorn\", \"Stambecco alpino\", \"alcefalo\", \"impala (antilope)\", \"gazzella\", \"Cammello arabo\", \"lama\", \"donnola\", \"visone\", \"Puzzola europea\", \"furetto dai piedi neri\", \"lontra\", \"puzzola\", \"tasso\", \"armadillo\", \"Bradipo a tre dita\", \"orango\", \"gorilla\", \"scimpanzé\", \"gibbone\", \"siamang\", \"cercopiteco\", \"scimmia patas\", \"babbuino\", \"macaco\", \"langur\", \"colobo bianco e nero\", \"scimmia proboscide\", \"uistitì\", \"cappuccino dalla testa bianca\", \"scimmia urlatrice\", \"scimmia titi\", \"Scimmia ragno di Geoffroy\", \"scimmia scoiattolo comune\", \"lemure dalla coda ad anelli\", \"indri\", \"Elefante asiatico\", \"Elefante africano della savana\", \"panda rosso\", \"panda gigante\", \"pesce snoek\", \"anguilla\", \"salmone argentato\", \"pesce bellezza di roccia\", \"pesce pagliaccio\", \"storione\", \"pesce aguglia\", \"pesce leone\", \"pesce palla\", \"abaco\", \"abaya\", \"abito accademico\", \"fisarmonica\", \"chitarra acustica\", \"Portaerei\", \"aereo di linea\", \"dirigibile\", \"altare\", \"ambulanza\", \"veicolo anfibio\", \"orologio analogico\", \"apiario\", \"grembiule\", \"bidone della spazzatura\", \"fucile d\\'assalto\", \"zaino\", \"panificio\", \"Trave di equilibrio\", \"Palloncino\", \"penna a sfera\", \"Cerotto\", \"banjo\", \"balaustra / corrimano\", \"bilanciere\", \"barber chair\", \"barbershop\", \"fienile\", \"barometro\", \"barile\", \"carriola\", \"baseball\", \"basket\", \"bassetto\", \"fagotto\", \"cuffia\", \"telo da bagno\", \"vasca da bagno\", \"station wagon\", \"faro\", \"bicchiere\", \"cappello militare (pelle d\\'orso o shako)\", \"bottiglia di birra\", \"bicchiere di birra\", \"campanile\", \"bavaglino per bambini\", \"bicicletta tandem\", \"bikini\", \"raccoglitore ad anelli\", \"binocolo\", \"casetta per uccelli\", \"rimessa per barche\", \"bob\", \"cravatta bolo\", \"poke bonnet\", \"libreria\", \"libreria\", \"tappo di bottiglia\", \"arco da caccia\", \"papillon\", \"targa commemorativa in ottone\", \"reggiseno\", \"frangiflutti\", \"pettorale\", \"scopa\", \"secchio\", \"fibbia\", \"giubbotto antiproiettile\", \"treno ad alta velocità\", \"macelleria\", \"taxi\", \"calderone\", \"candela\", \"cannone\", \"canoa\", \"apriscatole\", \"cardigan\", \"auto specchio\", \"carosello\", \"kit di attrezzi\", \"scatola di cartone / cartone\", \"ruota dell\\'auto\", \"sportello automatico\", \"cassetta\", \"lettore di cassette\", \"castello\", \"catamarano\", \"CD player\", \"violoncello\", \"telefono cellulare\", \"catena\", \"chain-link fence\", \"chain mail\", \"motosega\", \"cassapanca\" , \"chiffonier\", \"campana o campana a vento\", \"armadio delle porcellane\", \"Calza di Natale\", \"chiesa\", \"cinema\", \"mannaia\", \"dimora sulla scogliera\", \"mantello\", \"zoccoli\", \"shaker per cocktail\", \"tazza da caffè\", \"coffeemaker\", \"spirale o bobina\", \"serratura a combinazione\", \"tastiera del computer\", \"negozio di caramelle\", \"nave container\", \"convertibile\", \"cavatappi\", \"cornetto\", \"cowboy boot\", \"cowboy hat\", \"culla\", \"gru da costruzione\", \"casco di protezione\", \"cassa\", \"letto per bambini\", \"Crock Pot\", \"palla da croquet\", \"Stampella\", \"corazza\", \"diga\", \"scrivania\", \"desktop computer\", \"telefono a disco\", \"pannolino\", \"orologio digitale\", \"orologio digitale\", \"tavolo da pranzo\", \"strofinaccio\", \"lavastoviglie\", \"freno a disco\", \"bacino\", \"slitta per cani\", \"cupola\", \"zerbino\", \"impianto di perforazione\", \"tamburo\", \"bacchetta\", \"manubrio\", \"forno olandese\", \"ventilatore elettrico\", \"chitarra elettrica\", \"locomotiva elettrica\", \"centro d\\'intrattenimento\", \"busta\", \"macchina per caffè espresso\", \"polvere per il viso\", \"boa di piume\", \"schedario\", \"barca dei pompieri\", \"camion dei pompieri\", \"paravento\", \"pennone\", \"flauto\", \"sedia pieghevole\", \"casco da calcio\", \"carrello elevatore\", \"fontana\", \"penna stilografica\", \"letto a baldacchino\", \"vagone merci\", \"corno francese\", \"padella\", \"cappotto di pelliccia\", \"camion della spazzatura\", \"Maschera antigas o respiratore\", \"pompa di benzina\", \"calice\", \"go-kart\", \"pallina da golf\", \"golf cart\", \"gondola\", \"gong\", \"camice\", \"grand piano\", \"serra\", \"radiatore a griglia\", \"negozio di alimentari\", \"ghigliottina\", \"molletta per capelli\", \"lacca per capelli\", \"mezzo binario\", \"martello\", \"cestino\", \"asciugacapelli\", \"computer portatile\", \"fazzoletto\", \"hard disk drive\", \"armonica\", \"arpa\", \"mietitrebbia\", \"ascia di guerra\", \"fondina\", \"home theater\", \"honeycomb\", \"gancio\", \"gonna a cerchio\", \"barra orizzontale da ginnastica\", \"veicolo trainato da cavalli\", \"clessidra\", \"iPod\", \"ferro da stiro\", \"zucca intagliata\", \"jeans\", \"jeep\", \"maglietta\", \"puzzle\", \"Risciò\", \"joystick\", \"kimono\", \"ginocchiera\", \"nodo\", \"camice da laboratorio\", \"mestolo\", \"paralume\", \"computer portatile\", \"tosaerba\", \"tappo della lente\", \"tagliacarte\", \"biblioteca\", \"scialuppa di salvataggio\", \"accendino\", \"limousine\", \"transatlantico\", \"Rossetto\", \"scarpa da ginnastica\", \"lozione\", \"altoparlante per musica\", \"lente d\\'ingrandimento\", \"segheria\", \"bussola magnetica\", \"borsa del messaggero\", \"cassetta della posta\", \"collant\", \"costume da bagno intero\", \"tombino\", \"maraca\", \"marimba\", \"maschera\", \"fiammifero\", \"maypole\", \"labirinto\", \"misurino\", \"armadietto dei medicinali\", \"megalite\", \"microfono\", \"forno a microonde\", \"uniforme militare\", \"barattolo del latte\", \"minibus\", \"minigonna\", \"minivan\", \"missile\", \"guanto\", \"ciotola di miscelazione\", \"casa mobile\", \"ford model t\", \"modem\", \"monastero\", \"monitor\", \"motorino\", \"mortaio e pestello\", \"graduation cap\", \"moschea\", \"zanzariera\", \"vespa\", \"mountain bike\", \"tenda\", \"mouse per computer\", \"trappola per topi\", \"furgone in movimento\", \"museruola\", \"chiodo di metallo\", \"collare\", \"collana\", \"Ciuccio per bambini\", \"computer portatile\", \"obelisco\", \"oboe\", \"ocarina\", \"contachilometri\", \"filtro dell\\'olio\", \"organo a canne\", \"oscilloscopio\", \"sopragonna\", \"carro di buoi\", \"maschera d\\'ossigeno\", \"pacchetto / imballaggio del prodotto\", \"paletta\", \"ruota a pale\", \"Lucchetto\", \"pennello\", \"pigiama\", \"palazzo\", \"flauto di pan\", \"tovagliolo di carta\", \"paracadute\", \"barre parallele\", \"panchina\", \"parchimetro\", \"vagone ferroviario\", \"patio\", \"telefono pubblico\", \"piedistallo\", \"astuccio per matite\", \"temperamatite\", \"profumo\", \"Piastra di Petri\", \"fotocopiatrice\", \"plettro\", \"Pickelhaube\", \"recinzione\", \"pickup\", \"molo\", \"salvadanaio\", \"Bottiglia di pillole\", \"Cuscino\", \"palla da ping-pong\", \"girandola\", \"nave dei pirati\", \"brocca per bevande\", \"piano a blocchi\", \"planetario\", \"borsa di plastica\", \"portapiatti\", \"aratro agricolo\", \"stantuffo\", \"Macchina fotografica Polaroid\", \"palo\", \"Furgone della polizia\", \"Poncho\", \"tavolo da biliardo\", \"Bottiglia di soda\", \"Vaso per piante\", \"ruota da vasaio\", \"trapano elettrico\", \"tappeto da preghiera\", \"stampante\", \"prigione\", \"missile\", \"proiettore\", \"disco da hockey\", \"sacco da boxe\", \"borsa\", \"penna d\\'oca\", \"trapunta\", \"auto da corsa\", \"racchetta\", \"radiatore\", \"radio\", \"radiotelescopio\", \"barile per la pioggia\", \"veicolo ricreativo\", \"Mulinello da pesca\", \"macchina fotografica reflex\", \"frigorifero\", \"telecomando\", \"ristorante\", \"revolver\", \"fucile\", \"sedia a dondolo\", \"girarrosto\", \"gomma da cancellare\", \"palla da rugby\", \"righello, bastone per misurare\", \"scarpa da ginnastica\", \"cassaforte\", \"spilla da balia\", \"saliera\", \"sandalo\", \"sarong\", \"sassofono\", \"Fodero\", \"bilancia\", \"scuolabus\", \"goletta\", \"tabellone segnapunti\", \"Monitor CRT\", \"Vite\", \"cacciavite\", \"cintura di sicurezza\", \"macchina da cucire\", \"scudo\", \"negozio di scarpe\", \"schermo shoji / divisorio per stanze\", \"cestino della spesa\", \"carrello della spesa\", \"pala\", \"cuffia da doccia\", \"Tenda da doccia\", \"sci\", \"passamontagna\", \"sacco a pelo\", \"regolo calcolatore\", \"porta scorrevole\", \"slot machine\", \"boccaglio\", \"motoslitta\", \"spazzaneve\", \"distributore di sapone\", \"pallone da calcio\", \"calzino\", \"collettore solare termico\", \"sombrero\", \"ciotola per zuppa\", \"barra spaziatrice della tastiera\", \"riscaldatore spaziale\", \"navetta spaziale\", \"spatola\", \"motoscafo\", \"ragnatela\", \"fuso\", \"auto sportiva\", \"riflettore\", \"palcoscenico\", \"locomotiva a vapore\", \"ponte ad arco passante\", \"tamburo in acciaio\", \"stetoscopio\", \"sciarpa\", \"muro di pietra\", \"cronometro\", \"stufa\", \"colino\", \"tram\", \"barella\", \"divano\", \"stupa\", \"sottomarino\", \"tuta\", \"meridiana\", \"sunglasses (occhiali da sole)\", \"occhiali da sole\", \"crema solare\", \"ponte sospeso\", \"mocio\", \"felpa\", \"costume da bagno / pantaloncini\", \"Altalena\", \"interruttore elettrico\", \"siringa\", \"lampada da tavolo\", \"Serbatoio\", \"mangianastri\", \"teiera\", \"orsacchiotto\", \"televisione\", \"palla da tennis\", \"tetto di paglia\", \"tenda frontale\", \"ditale\", \"macchina per la trebbiatura\", \"trono\", \"tetto di tegole\", \"tostapane\", \"tabaccheria\", \"tavoletta del water\", \"torcia\", \"totem\", \"carro attrezzi\", \"negozio di giocattoli\", \"trattore\", \"camion semirimorchio\", \"vassoio\", \"trench coat\", \"triciclo\", \"trimarano\", \"treppiede\", \"arco di trionfo\", \"trolleybus\", \"trombone\", \"vasca idromassaggio\", \"tornello\", \"tastiera della macchina da scrivere\", \"ombrello\", \"monociclo\", \"pianoforte verticale\", \"aspirapolvere\", \"vaso\", \"soffitto a volta o ad arco\", \"tessuto di velluto\", \"distributore automatico\", \"paramento\", \"viadotto\", \"violino\", \"pallavolo\", \"Ferro da stiro\", \"orologio da parete\", \"portafoglio\", \"armadio\", \"aereo militare\", \"Lavello\", \"lavatrice\", \"Bottiglia d\\'acqua\", \"brocca d\\'acqua\", \"torre dell\\'acqua\", \"brocca di whisky\", \"Fischietto\", \"parrucca per capelli\", \"schermo della finestra\", \"Tenda della finestra\", \"cravatta Windsor\", \"Bottiglia di vino\", \"ala d\\'aereo\", \"wok\", \"cucchiaio di legno\", \"Lana\", \"Recinto con travi di legno\", \"naufragio\", \"barca a vela\", \"yurta\", \"sito web\", \"fumetto\", \"cruciverba\", \"segnale stradale o di traffico\", \"semaforo\", \"giacca di polvere\", \"menu\", \"piatto\", \"guacamole\", \"consomme\\'\", \"hot pot\", \"trifle\", \"gelato\", \"ghiacciolo\", \"baguette\", \"bagel\", \"pretzel\", \"cheeseburger\", \"hot dog\", \"purè di patate\", \"cavolo\", \"broccoli\", \"cavolfiore\", \"zucchina\", \"spaghetti alla zucca\", \"zucca a ghianda\", \"zucca butternut\", \"cetriolo\", \"carciofo\", \"peperone\", \"cardo\", \"Fungo\", \"Mela Granny Smith\", \"fragola\", \"arancia\", \"limone\", \"Fico\", \"ananas\", \"banana\", \"jackfruit\", \"anona (mela custard)\", \"melograno\", \"fieno\", \"carbonara\", \"sciroppo di cioccolato\", \"pasta\", \"polpettone\", \"pizza\", \"torta salata\", \"burrito\", \"vino rosso\", \"espresso\", \"tazza di tè\", \"zabaione\", \"montagna\", \"bolla\", \"scogliera\", \"barriera corallina\", \"geyser\", \"riva del lago\", \"promontorio\", \"barra di sabbia\", \"spiaggia\", \"valle\", \"vulcano\", \"giocatore di baseball\", \"sposo\", \"subacqueo\", \"colza\", \"margherita\", \"pantofola gialla della signora\", \"mais\", \"ghianda\", \"rosa canina\", \"Seme di ippocastano\", \"fungo del corallo\", \"agarico\", \"gyromitra\", \"fungo del corno di rovo\", \"fungo stella di terra\", \"fungo gallina dei boschi\", \"boleto\", \"pannocchia di mais\", \"carta igienica\"]\n",
    "    classes_df = pd.read_csv('/home/raphaelp/clip-italian/evaluation/imagenet_labels_IT.tsv', sep='\\t', header=0)\n",
    "    print(classes_df.head)\n",
    "    imagenet_classes = list(classes_df['query_short_translated'])  # list(classes_df['query_long_translated'])  #\n",
    "    # print(imagenet_classes)\n",
    "    "
   ]
  },
  {
   "cell_type": "code",
   "execution_count": 7,
   "metadata": {
    "colab": {
     "base_uri": "https://localhost:8080/"
    },
    "id": "toGtcd-Ji_MD",
    "outputId": "46bcc85f-3968-4836-f3c6-e48848e944c4"
   },
   "outputs": [
    {
     "name": "stdout",
     "output_type": "stream",
     "text": [
      "1000 classes, 1 templates\n"
     ]
    }
   ],
   "source": [
    "if LANGUAGE == 'en':\n",
    "    imagenet_templates = [\n",
    "        'a bad photo of a {}.',\n",
    "        'a photo of many {}.',\n",
    "        'a sculpture of a {}.',\n",
    "        'a photo of the hard to see {}.',\n",
    "        'a low resolution photo of the {}.',\n",
    "        'a rendering of a {}.',\n",
    "        'graffiti of a {}.',\n",
    "        'a bad photo of the {}.',\n",
    "        'a cropped photo of the {}.',\n",
    "        'a tattoo of a {}.',\n",
    "        'the embroidered {}.',\n",
    "        'a photo of a hard to see {}.',\n",
    "        'a bright photo of a {}.',\n",
    "        'a photo of a clean {}.',\n",
    "        'a photo of a dirty {}.',\n",
    "        'a dark photo of the {}.',\n",
    "        'a drawing of a {}.',\n",
    "        'a photo of my {}.',\n",
    "        'the plastic {}.',\n",
    "        'a photo of the cool {}.',\n",
    "        'a close-up photo of a {}.',\n",
    "        'a black and white photo of the {}.',\n",
    "        'a painting of the {}.',\n",
    "        'a painting of a {}.',\n",
    "        'a pixelated photo of the {}.',\n",
    "        'a sculpture of the {}.',\n",
    "        'a bright photo of the {}.',\n",
    "        'a cropped photo of a {}.',\n",
    "        'a plastic {}.',\n",
    "        'a photo of the dirty {}.',\n",
    "        'a jpeg corrupted photo of a {}.',\n",
    "        'a blurry photo of the {}.',\n",
    "        'a photo of the {}.',\n",
    "        'a good photo of the {}.',\n",
    "        'a rendering of the {}.',\n",
    "        'a {} in a video game.',\n",
    "        'a photo of one {}.',\n",
    "        'a doodle of a {}.',\n",
    "        'a close-up photo of the {}.',\n",
    "        'a photo of a {}.',\n",
    "        'the origami {}.',\n",
    "        'the {} in a video game.',\n",
    "        'a sketch of a {}.',\n",
    "        'a doodle of the {}.',\n",
    "        'a origami {}.',\n",
    "        'a low resolution photo of a {}.',\n",
    "        'the toy {}.',\n",
    "        'a rendition of the {}.',\n",
    "        'a photo of the clean {}.',\n",
    "        'a photo of a large {}.',\n",
    "        'a rendition of a {}.',\n",
    "        'a photo of a nice {}.',\n",
    "        'a photo of a weird {}.',\n",
    "        'a blurry photo of a {}.',\n",
    "        'a cartoon {}.',\n",
    "        'art of a {}.',\n",
    "        'a sketch of the {}.',\n",
    "        'a embroidered {}.',\n",
    "        'a pixelated photo of a {}.',\n",
    "        'itap of the {}.',\n",
    "        'a jpeg corrupted photo of the {}.',\n",
    "        'a good photo of a {}.',\n",
    "        'a plushie {}.',\n",
    "        'a photo of the nice {}.',\n",
    "        'a photo of the small {}.',\n",
    "        'a photo of the weird {}.',\n",
    "        'the cartoon {}.',\n",
    "        'art of the {}.',\n",
    "        'a drawing of the {}.',\n",
    "        'a photo of the large {}.',\n",
    "        'a black and white photo of a {}.',\n",
    "        'the plushie {}.',\n",
    "        'a dark photo of a {}.',\n",
    "        'itap of a {}.',\n",
    "        'graffiti of the {}.',\n",
    "        'a toy {}.',\n",
    "        'itap of my {}.',\n",
    "        'a photo of a cool {}.',\n",
    "        'a photo of a small {}.',\n",
    "        'a tattoo of the {}.',\n",
    "    ]\n",
    "elif LANGUAGE == 'it':\n",
    "    imagenet_templates = [\n",
    "        '{}'\n",
    "#         \"una brutta foto di {}\",\n",
    "#         \"una scultura di {}\",\n",
    "#         \"una foto di {} difficilmente visibile\",\n",
    "#         \"una foto a bassa risoluzione di {}\",\n",
    "#         \"un rendering di {}\",\n",
    "#         \"graffiti di {}\",\n",
    "#         \"una pessima foto di {}\",\n",
    "#         \"una foto ritagliata di {}\",\n",
    "#         \"un tatuaggio di {}\",\n",
    "#         \"{} ricamato\",\n",
    "#         \"{} ricamata\",\n",
    "#         \"una foto luminosa di {}\",\n",
    "#         \"una foto di {} pulito\",\n",
    "#         \"una foto di {} pulita\",\n",
    "#         \"una foto di {} sporco\",\n",
    "#         \"una foto di {} sporca\",\n",
    "#         \"una foto di {} carino\",\n",
    "#         \"una foto di {} carina\",\n",
    "#         \"una foto di {} strano\",\n",
    "#         \"una foto di {} strana\",\n",
    "#         \"una foto di {} piccolo\",\n",
    "#         \"una foto di {} piccola\",\n",
    "#         \"una foto di {} largo\",\n",
    "#         \"una foto di {} larga\",\n",
    "#         \"una foto di {} grande\",\n",
    "#         \"una foto scura di {}\",\n",
    "#         \"un disegno di {}\",\n",
    "#         \"{} di plastica\",\n",
    "#         \"una foto del {} bella\",\n",
    "#         \"una foto ravvicinata di {}\",\n",
    "#         \"una foto in bianco e nero di {}\",\n",
    "#         \"un dipinto di {}\",\n",
    "#         \"una foto sgranata di {}\",\n",
    "#         \"una foto ritagliata di {}\",\n",
    "#         \"una foto sfocata di {}\",\n",
    "#         \"una buona foto di {}\",\n",
    "#         \"una riproduzione di {}\",\n",
    "#         \"un rendering di {}\",\n",
    "#         \"{} in un video gioco\",\n",
    "#         \"uno scarabocchio di {}\",\n",
    "#         \"un origami di {}\",\n",
    "#         \"uno sketch di {}\",\n",
    "#         \"una bozza di {}\",\n",
    "#         \"una foto a bassa risoluzione di {}\",\n",
    "#         \"un giocattolo di {}\",\n",
    "#         \"una resa di {}\",\n",
    "#         \"{} come cartone animato\",\n",
    "#         \"un'opera di {}\",\n",
    "#         \"un peluche di {}\",\n",
    "    ]\n",
    "\n",
    "print(f\"{len(imagenet_classes)} classes, {len(imagenet_templates)} templates\")"
   ]
  },
  {
   "cell_type": "markdown",
   "metadata": {},
   "source": [
    "# Set up Validation Set"
   ]
  },
  {
   "cell_type": "code",
   "execution_count": 8,
   "metadata": {
    "colab": {
     "base_uri": "https://localhost:8080/"
    },
    "id": "cboKZocQlSYX",
    "outputId": "58e644d4-6e23-43b5-964e-1e9e8540d22e"
   },
   "outputs": [],
   "source": [
    "val_preprocess = transforms.Compose([\n",
    "    Resize([config.vision_config.image_size], interpolation=InterpolationMode.BICUBIC),\n",
    "    CenterCrop(config.vision_config.image_size),\n",
    "    ToTensor(),\n",
    "    Normalize((0.48145466, 0.4578275, 0.40821073), (0.26862954, 0.26130258, 0.27577711)),\n",
    "])"
   ]
  },
  {
   "cell_type": "code",
   "execution_count": 9,
   "metadata": {
    "colab": {
     "base_uri": "https://localhost:8080/",
     "height": 66,
     "referenced_widgets": [
      "4e3a3f83649f45f8bef3434980634664",
      "f066bdb766664c788ba1e9de8d311e22",
      "4e7a7427d28a4ae684e0be4548eb9944",
      "cc9dc019c1334a46b2558ffa6c0dd6e6",
      "285c877d4f644f3a8a58c4eb5948101c",
      "075d6545e02e419ca565589eb5ffc318",
      "53f9106c80e84d5b8c3ec96162d1db98",
      "19c57d99e7c44cbda508ce558fde435d"
     ]
    },
    "id": "sRqDoz1Gbsii",
    "outputId": "5ab6c001-8a5e-42c9-ab46-4477a693229c"
   },
   "outputs": [
    {
     "data": {
      "application/vnd.jupyter.widget-view+json": {
       "model_id": "6dac67128da24f31af58921a24ac21e8",
       "version_major": 2,
       "version_minor": 0
      },
      "text/plain": [
       "HBox(children=(FloatProgress(value=0.0, max=1000.0), HTML(value='')))"
      ]
     },
     "metadata": {},
     "output_type": "display_data"
    },
    {
     "name": "stdout",
     "output_type": "stream",
     "text": [
      "\n"
     ]
    }
   ],
   "source": [
    "def zeroshot_classifier(classnames, templates):\n",
    "    zeroshot_weights = []\n",
    "    for classname in tqdm(classnames):\n",
    "        texts = [template.format(classname) for template in templates] #format with class\n",
    "        inputs = tokenizer(texts, max_length=96, padding=\"max_length\", return_tensors=\"np\")\n",
    "        class_embeddings = model.get_text_features(inputs['input_ids'], inputs['attention_mask'])#embed with text encoder\n",
    "        class_embeddings /= jnp.linalg.norm(class_embeddings, axis=-1, keepdims=True)\n",
    "        class_embedding = jnp.mean(class_embeddings, axis=0)\n",
    "        class_embedding /= jnp.linalg.norm(class_embedding, axis=-1)\n",
    "        zeroshot_weights.append(class_embedding)\n",
    "    zeroshot_weights = jnp.stack(zeroshot_weights, axis=1)\n",
    "    return zeroshot_weights\n",
    "\n",
    "\n",
    "zeroshot_weights = zeroshot_classifier(imagenet_classes, imagenet_templates)"
   ]
  },
  {
   "cell_type": "code",
   "execution_count": 10,
   "metadata": {
    "colab": {
     "base_uri": "https://localhost:8080/"
    },
    "id": "moHR4UlHKsDc",
    "outputId": "178f6d0d-9a34-4cbc-c9c1-e7ce09927980"
   },
   "outputs": [],
   "source": [
    "images = torchvision.datasets.ImageNet(IMAGENET_ROOT, split='val', transform=val_preprocess)\n",
    "loader = torch.utils.data.DataLoader(\n",
    "    images,\n",
    "    batch_size=1024,\n",
    "    shuffle=False,\n",
    "    num_workers=32,\n",
    "    persistent_workers=True,\n",
    "    drop_last=False\n",
    ")"
   ]
  },
  {
   "cell_type": "markdown",
   "metadata": {
    "id": "fz6D-F-Wbrtp"
   },
   "source": [
    "# Creating zero-shot classifier weights"
   ]
  },
  {
   "cell_type": "markdown",
   "metadata": {
    "id": "1fZo7hG8iJP5"
   },
   "source": [
    "# Zero-shot prediction"
   ]
  },
  {
   "cell_type": "code",
   "execution_count": 11,
   "metadata": {
    "id": "j4kPSZoShQxN"
   },
   "outputs": [],
   "source": [
    "# def accuracy(output, target, topk=(1,)):\n",
    "#     # pred = output.topk(max(topk), 1, True, True)[1].t()\n",
    "#     pred = jnp.argsort(output, axis=0, )[:,-max(topk):][:, ::-1]\n",
    "# #     print(target)\n",
    "# #     print(output.shape)\n",
    "# #     print(pred.shape)\n",
    "# #     print(pred)\n",
    "# #     print(target.shape)\n",
    "#     correct = jnp.equal(pred, jnp.expand_dims(target, axis=-1))\n",
    "# #     print(correct)\n",
    "#     return [float(jnp.sum(jnp.reshape(correct[:, :k], -1), axis=0, keepdims=True)) for k in topk]\n",
    "\n",
    "def accuracy(output, target, topk=(1,)):\n",
    "    output = torch.from_numpy(np.asarray(output))\n",
    "    target = torch.from_numpy(np.asarray(target))\n",
    "    pred = output.topk(max(topk), dim=1, largest=True, sorted=True)[1].t()\n",
    "    correct = pred.eq(target.view(1, -1).expand_as(pred))\n",
    "    return [float(correct[:k].reshape(-1).float().sum(0, keepdim=True).cpu().numpy()) for k in topk]"
   ]
  },
  {
   "cell_type": "code",
   "execution_count": 12,
   "metadata": {
    "colab": {
     "base_uri": "https://localhost:8080/",
     "height": 100,
     "referenced_widgets": [
      "fbb2b937b22049f5987f39f48c652a86",
      "0a1b6b76984349ccb36ca2fc4a4a0208",
      "c136afb47aa14ac2832093ee415c6f3e",
      "467a151e73744eccb199fe72aa352e5b",
      "f6d637c3fc3c46928d023441227130e5",
      "029e6eadacb8480193aab52ff073be8f",
      "30178355f76742898d37966b3875ef0a",
      "2e62544c03d64d6d92b94fcfaca2fc90"
     ]
    },
    "id": "wKJ7YsdlkDXo",
    "outputId": "90e084fd-86bc-4a52-a06e-61bff7aa86e0"
   },
   "outputs": [
    {
     "data": {
      "application/vnd.jupyter.widget-view+json": {
       "model_id": "7dae3e980948495694e2b6f909c1645a",
       "version_major": 2,
       "version_minor": 0
      },
      "text/plain": [
       "HBox(children=(FloatProgress(value=0.0, max=49.0), HTML(value='')))"
      ]
     },
     "metadata": {},
     "output_type": "display_data"
    },
    {
     "name": "stderr",
     "output_type": "stream",
     "text": [
      "/tmp/ipykernel_781362/231593692.py:14: UserWarning: The given NumPy array is not writeable, and PyTorch does not support non-writeable tensors. This means you can write to the underlying (supposedly non-writeable) NumPy array using the tensor. You may want to copy the array to protect its data or make it writeable before converting it to a tensor. This type of warning will be suppressed for the rest of this program. (Triggered internally at  /pytorch/torch/csrc/utils/tensor_numpy.cpp:180.)\n",
      "  output = torch.from_numpy(np.asarray(output))\n"
     ]
    },
    {
     "name": "stdout",
     "output_type": "stream",
     "text": [
      "\n",
      "{'top1': 22.114, 'top5': 43.688, 'top10': 52.547999999999995, 'top100': 81.07799999999999}\n"
     ]
    }
   ],
   "source": [
    "top_ns = [1, 5, 10, 100]\n",
    "acc_counters = [0. for _ in top_ns]\n",
    "n = 0.\n",
    "\n",
    "for i, (images, target) in enumerate(tqdm(loader)):\n",
    "    images = images.permute(0, 2, 3, 1).numpy()\n",
    "    target = target.numpy()\n",
    "    # predict\n",
    "    image_features = model.get_image_features(images,)\n",
    "    image_features /= jnp.linalg.norm(image_features, axis=-1, keepdims=True)\n",
    "    logits = 100. * image_features @ zeroshot_weights\n",
    "\n",
    "    # measure accuracy\n",
    "    accs = accuracy(logits, target, topk=top_ns)\n",
    "    for j in range(len(top_ns)):\n",
    "        acc_counters[j] += accs[j]\n",
    "    n += images.shape[0]\n",
    "\n",
    "tops = {f'top{top_ns[i]}': acc_counters[i] / n * 100 for i in range(len(top_ns))}\n",
    "\n",
    "print(tops)"
   ]
  },
  {
   "cell_type": "raw",
   "metadata": {},
   "source": [
    "OpenAI:\n",
    "    Top-1 accuracy: 55.73\n",
    "    Top-5 accuracy: 83.45\n",
    "\n",
    "clip-it:\n",
    "    short translation:                      {'top1': 22.114, 'top5': 43.688, 'top10': 52.547999999999995, 'top100': 81.07799999999999}\n",
    "    short translation + prompt engineering: {'top1': 21.886, 'top5': 43.086, 'top10': 51.739999999999995, 'top100': 82.06599999999999}\n",
    "    long tanslation:                        {'top1': 21.12, 'top5': 42.472, 'top10': 51.086, 'top100': 81.44}"
   ]
  }
 ],
 "metadata": {
  "accelerator": "GPU",
  "colab": {
   "collapsed_sections": [],
   "name": "Prompt Engineering for ImageNet.ipynb",
   "provenance": []
  },
  "kernelspec": {
   "display_name": "Python 3 (ipykernel)",
   "language": "python",
   "name": "python3"
  },
  "language_info": {
   "codemirror_mode": {
    "name": "ipython",
    "version": 3
   },
   "file_extension": ".py",
   "mimetype": "text/x-python",
   "name": "python",
   "nbconvert_exporter": "python",
   "pygments_lexer": "ipython3",
   "version": "3.8.10"
  },
  "widgets": {
   "application/vnd.jupyter.widget-state+json": {
    "029e6eadacb8480193aab52ff073be8f": {
     "model_module": "@jupyter-widgets/base",
     "model_name": "LayoutModel",
     "state": {
      "_model_module": "@jupyter-widgets/base",
      "_model_module_version": "1.2.0",
      "_model_name": "LayoutModel",
      "_view_count": null,
      "_view_module": "@jupyter-widgets/base",
      "_view_module_version": "1.2.0",
      "_view_name": "LayoutView",
      "align_content": null,
      "align_items": null,
      "align_self": null,
      "border": null,
      "bottom": null,
      "display": null,
      "flex": null,
      "flex_flow": null,
      "grid_area": null,
      "grid_auto_columns": null,
      "grid_auto_flow": null,
      "grid_auto_rows": null,
      "grid_column": null,
      "grid_gap": null,
      "grid_row": null,
      "grid_template_areas": null,
      "grid_template_columns": null,
      "grid_template_rows": null,
      "height": null,
      "justify_content": null,
      "justify_items": null,
      "left": null,
      "margin": null,
      "max_height": null,
      "max_width": null,
      "min_height": null,
      "min_width": null,
      "object_fit": null,
      "object_position": null,
      "order": null,
      "overflow": null,
      "overflow_x": null,
      "overflow_y": null,
      "padding": null,
      "right": null,
      "top": null,
      "visibility": null,
      "width": null
     }
    },
    "075d6545e02e419ca565589eb5ffc318": {
     "model_module": "@jupyter-widgets/base",
     "model_name": "LayoutModel",
     "state": {
      "_model_module": "@jupyter-widgets/base",
      "_model_module_version": "1.2.0",
      "_model_name": "LayoutModel",
      "_view_count": null,
      "_view_module": "@jupyter-widgets/base",
      "_view_module_version": "1.2.0",
      "_view_name": "LayoutView",
      "align_content": null,
      "align_items": null,
      "align_self": null,
      "border": null,
      "bottom": null,
      "display": null,
      "flex": null,
      "flex_flow": null,
      "grid_area": null,
      "grid_auto_columns": null,
      "grid_auto_flow": null,
      "grid_auto_rows": null,
      "grid_column": null,
      "grid_gap": null,
      "grid_row": null,
      "grid_template_areas": null,
      "grid_template_columns": null,
      "grid_template_rows": null,
      "height": null,
      "justify_content": null,
      "justify_items": null,
      "left": null,
      "margin": null,
      "max_height": null,
      "max_width": null,
      "min_height": null,
      "min_width": null,
      "object_fit": null,
      "object_position": null,
      "order": null,
      "overflow": null,
      "overflow_x": null,
      "overflow_y": null,
      "padding": null,
      "right": null,
      "top": null,
      "visibility": null,
      "width": null
     }
    },
    "0a1b6b76984349ccb36ca2fc4a4a0208": {
     "model_module": "@jupyter-widgets/base",
     "model_name": "LayoutModel",
     "state": {
      "_model_module": "@jupyter-widgets/base",
      "_model_module_version": "1.2.0",
      "_model_name": "LayoutModel",
      "_view_count": null,
      "_view_module": "@jupyter-widgets/base",
      "_view_module_version": "1.2.0",
      "_view_name": "LayoutView",
      "align_content": null,
      "align_items": null,
      "align_self": null,
      "border": null,
      "bottom": null,
      "display": null,
      "flex": null,
      "flex_flow": null,
      "grid_area": null,
      "grid_auto_columns": null,
      "grid_auto_flow": null,
      "grid_auto_rows": null,
      "grid_column": null,
      "grid_gap": null,
      "grid_row": null,
      "grid_template_areas": null,
      "grid_template_columns": null,
      "grid_template_rows": null,
      "height": null,
      "justify_content": null,
      "justify_items": null,
      "left": null,
      "margin": null,
      "max_height": null,
      "max_width": null,
      "min_height": null,
      "min_width": null,
      "object_fit": null,
      "object_position": null,
      "order": null,
      "overflow": null,
      "overflow_x": null,
      "overflow_y": null,
      "padding": null,
      "right": null,
      "top": null,
      "visibility": null,
      "width": null
     }
    },
    "19c57d99e7c44cbda508ce558fde435d": {
     "model_module": "@jupyter-widgets/base",
     "model_name": "LayoutModel",
     "state": {
      "_model_module": "@jupyter-widgets/base",
      "_model_module_version": "1.2.0",
      "_model_name": "LayoutModel",
      "_view_count": null,
      "_view_module": "@jupyter-widgets/base",
      "_view_module_version": "1.2.0",
      "_view_name": "LayoutView",
      "align_content": null,
      "align_items": null,
      "align_self": null,
      "border": null,
      "bottom": null,
      "display": null,
      "flex": null,
      "flex_flow": null,
      "grid_area": null,
      "grid_auto_columns": null,
      "grid_auto_flow": null,
      "grid_auto_rows": null,
      "grid_column": null,
      "grid_gap": null,
      "grid_row": null,
      "grid_template_areas": null,
      "grid_template_columns": null,
      "grid_template_rows": null,
      "height": null,
      "justify_content": null,
      "justify_items": null,
      "left": null,
      "margin": null,
      "max_height": null,
      "max_width": null,
      "min_height": null,
      "min_width": null,
      "object_fit": null,
      "object_position": null,
      "order": null,
      "overflow": null,
      "overflow_x": null,
      "overflow_y": null,
      "padding": null,
      "right": null,
      "top": null,
      "visibility": null,
      "width": null
     }
    },
    "285c877d4f644f3a8a58c4eb5948101c": {
     "model_module": "@jupyter-widgets/controls",
     "model_name": "ProgressStyleModel",
     "state": {
      "_model_module": "@jupyter-widgets/controls",
      "_model_module_version": "1.5.0",
      "_model_name": "ProgressStyleModel",
      "_view_count": null,
      "_view_module": "@jupyter-widgets/base",
      "_view_module_version": "1.2.0",
      "_view_name": "StyleView",
      "bar_color": null,
      "description_width": "initial"
     }
    },
    "2e62544c03d64d6d92b94fcfaca2fc90": {
     "model_module": "@jupyter-widgets/base",
     "model_name": "LayoutModel",
     "state": {
      "_model_module": "@jupyter-widgets/base",
      "_model_module_version": "1.2.0",
      "_model_name": "LayoutModel",
      "_view_count": null,
      "_view_module": "@jupyter-widgets/base",
      "_view_module_version": "1.2.0",
      "_view_name": "LayoutView",
      "align_content": null,
      "align_items": null,
      "align_self": null,
      "border": null,
      "bottom": null,
      "display": null,
      "flex": null,
      "flex_flow": null,
      "grid_area": null,
      "grid_auto_columns": null,
      "grid_auto_flow": null,
      "grid_auto_rows": null,
      "grid_column": null,
      "grid_gap": null,
      "grid_row": null,
      "grid_template_areas": null,
      "grid_template_columns": null,
      "grid_template_rows": null,
      "height": null,
      "justify_content": null,
      "justify_items": null,
      "left": null,
      "margin": null,
      "max_height": null,
      "max_width": null,
      "min_height": null,
      "min_width": null,
      "object_fit": null,
      "object_position": null,
      "order": null,
      "overflow": null,
      "overflow_x": null,
      "overflow_y": null,
      "padding": null,
      "right": null,
      "top": null,
      "visibility": null,
      "width": null
     }
    },
    "30178355f76742898d37966b3875ef0a": {
     "model_module": "@jupyter-widgets/controls",
     "model_name": "DescriptionStyleModel",
     "state": {
      "_model_module": "@jupyter-widgets/controls",
      "_model_module_version": "1.5.0",
      "_model_name": "DescriptionStyleModel",
      "_view_count": null,
      "_view_module": "@jupyter-widgets/base",
      "_view_module_version": "1.2.0",
      "_view_name": "StyleView",
      "description_width": ""
     }
    },
    "467a151e73744eccb199fe72aa352e5b": {
     "model_module": "@jupyter-widgets/controls",
     "model_name": "HTMLModel",
     "state": {
      "_dom_classes": [],
      "_model_module": "@jupyter-widgets/controls",
      "_model_module_version": "1.5.0",
      "_model_name": "HTMLModel",
      "_view_count": null,
      "_view_module": "@jupyter-widgets/controls",
      "_view_module_version": "1.5.0",
      "_view_name": "HTMLView",
      "description": "",
      "description_tooltip": null,
      "layout": "IPY_MODEL_2e62544c03d64d6d92b94fcfaca2fc90",
      "placeholder": "​",
      "style": "IPY_MODEL_30178355f76742898d37966b3875ef0a",
      "value": " 313/313 [01:26&lt;00:00,  3.62it/s]"
     }
    },
    "4e3a3f83649f45f8bef3434980634664": {
     "model_module": "@jupyter-widgets/controls",
     "model_name": "HBoxModel",
     "state": {
      "_dom_classes": [],
      "_model_module": "@jupyter-widgets/controls",
      "_model_module_version": "1.5.0",
      "_model_name": "HBoxModel",
      "_view_count": null,
      "_view_module": "@jupyter-widgets/controls",
      "_view_module_version": "1.5.0",
      "_view_name": "HBoxView",
      "box_style": "",
      "children": [
       "IPY_MODEL_4e7a7427d28a4ae684e0be4548eb9944",
       "IPY_MODEL_cc9dc019c1334a46b2558ffa6c0dd6e6"
      ],
      "layout": "IPY_MODEL_f066bdb766664c788ba1e9de8d311e22"
     }
    },
    "4e7a7427d28a4ae684e0be4548eb9944": {
     "model_module": "@jupyter-widgets/controls",
     "model_name": "FloatProgressModel",
     "state": {
      "_dom_classes": [],
      "_model_module": "@jupyter-widgets/controls",
      "_model_module_version": "1.5.0",
      "_model_name": "FloatProgressModel",
      "_view_count": null,
      "_view_module": "@jupyter-widgets/controls",
      "_view_module_version": "1.5.0",
      "_view_name": "ProgressView",
      "bar_style": "success",
      "description": "100%",
      "description_tooltip": null,
      "layout": "IPY_MODEL_075d6545e02e419ca565589eb5ffc318",
      "max": 1000,
      "min": 0,
      "orientation": "horizontal",
      "style": "IPY_MODEL_285c877d4f644f3a8a58c4eb5948101c",
      "value": 1000
     }
    },
    "53f9106c80e84d5b8c3ec96162d1db98": {
     "model_module": "@jupyter-widgets/controls",
     "model_name": "DescriptionStyleModel",
     "state": {
      "_model_module": "@jupyter-widgets/controls",
      "_model_module_version": "1.5.0",
      "_model_name": "DescriptionStyleModel",
      "_view_count": null,
      "_view_module": "@jupyter-widgets/base",
      "_view_module_version": "1.2.0",
      "_view_name": "StyleView",
      "description_width": ""
     }
    },
    "c136afb47aa14ac2832093ee415c6f3e": {
     "model_module": "@jupyter-widgets/controls",
     "model_name": "FloatProgressModel",
     "state": {
      "_dom_classes": [],
      "_model_module": "@jupyter-widgets/controls",
      "_model_module_version": "1.5.0",
      "_model_name": "FloatProgressModel",
      "_view_count": null,
      "_view_module": "@jupyter-widgets/controls",
      "_view_module_version": "1.5.0",
      "_view_name": "ProgressView",
      "bar_style": "success",
      "description": "100%",
      "description_tooltip": null,
      "layout": "IPY_MODEL_029e6eadacb8480193aab52ff073be8f",
      "max": 313,
      "min": 0,
      "orientation": "horizontal",
      "style": "IPY_MODEL_f6d637c3fc3c46928d023441227130e5",
      "value": 313
     }
    },
    "cc9dc019c1334a46b2558ffa6c0dd6e6": {
     "model_module": "@jupyter-widgets/controls",
     "model_name": "HTMLModel",
     "state": {
      "_dom_classes": [],
      "_model_module": "@jupyter-widgets/controls",
      "_model_module_version": "1.5.0",
      "_model_name": "HTMLModel",
      "_view_count": null,
      "_view_module": "@jupyter-widgets/controls",
      "_view_module_version": "1.5.0",
      "_view_name": "HTMLView",
      "description": "",
      "description_tooltip": null,
      "layout": "IPY_MODEL_19c57d99e7c44cbda508ce558fde435d",
      "placeholder": "​",
      "style": "IPY_MODEL_53f9106c80e84d5b8c3ec96162d1db98",
      "value": " 1000/1000 [01:09&lt;00:00, 14.35it/s]"
     }
    },
    "f066bdb766664c788ba1e9de8d311e22": {
     "model_module": "@jupyter-widgets/base",
     "model_name": "LayoutModel",
     "state": {
      "_model_module": "@jupyter-widgets/base",
      "_model_module_version": "1.2.0",
      "_model_name": "LayoutModel",
      "_view_count": null,
      "_view_module": "@jupyter-widgets/base",
      "_view_module_version": "1.2.0",
      "_view_name": "LayoutView",
      "align_content": null,
      "align_items": null,
      "align_self": null,
      "border": null,
      "bottom": null,
      "display": null,
      "flex": null,
      "flex_flow": null,
      "grid_area": null,
      "grid_auto_columns": null,
      "grid_auto_flow": null,
      "grid_auto_rows": null,
      "grid_column": null,
      "grid_gap": null,
      "grid_row": null,
      "grid_template_areas": null,
      "grid_template_columns": null,
      "grid_template_rows": null,
      "height": null,
      "justify_content": null,
      "justify_items": null,
      "left": null,
      "margin": null,
      "max_height": null,
      "max_width": null,
      "min_height": null,
      "min_width": null,
      "object_fit": null,
      "object_position": null,
      "order": null,
      "overflow": null,
      "overflow_x": null,
      "overflow_y": null,
      "padding": null,
      "right": null,
      "top": null,
      "visibility": null,
      "width": null
     }
    },
    "f6d637c3fc3c46928d023441227130e5": {
     "model_module": "@jupyter-widgets/controls",
     "model_name": "ProgressStyleModel",
     "state": {
      "_model_module": "@jupyter-widgets/controls",
      "_model_module_version": "1.5.0",
      "_model_name": "ProgressStyleModel",
      "_view_count": null,
      "_view_module": "@jupyter-widgets/base",
      "_view_module_version": "1.2.0",
      "_view_name": "StyleView",
      "bar_color": null,
      "description_width": "initial"
     }
    },
    "fbb2b937b22049f5987f39f48c652a86": {
     "model_module": "@jupyter-widgets/controls",
     "model_name": "HBoxModel",
     "state": {
      "_dom_classes": [],
      "_model_module": "@jupyter-widgets/controls",
      "_model_module_version": "1.5.0",
      "_model_name": "HBoxModel",
      "_view_count": null,
      "_view_module": "@jupyter-widgets/controls",
      "_view_module_version": "1.5.0",
      "_view_name": "HBoxView",
      "box_style": "",
      "children": [
       "IPY_MODEL_c136afb47aa14ac2832093ee415c6f3e",
       "IPY_MODEL_467a151e73744eccb199fe72aa352e5b"
      ],
      "layout": "IPY_MODEL_0a1b6b76984349ccb36ca2fc4a4a0208"
     }
    }
   }
  }
 },
 "nbformat": 4,
 "nbformat_minor": 4
}
